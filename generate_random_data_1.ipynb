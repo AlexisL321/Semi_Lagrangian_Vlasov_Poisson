{
 "cells": [
  {
   "cell_type": "code",
   "execution_count": 138,
   "id": "e804b0b3-88c6-436a-97ed-d0c1502bf6a8",
   "metadata": {},
   "outputs": [],
   "source": [
    "import numpy as np\n",
    "import matplotlib.pyplot as plt"
   ]
  },
  {
   "cell_type": "code",
   "execution_count": 139,
   "id": "a9d1ecbe-d280-4d6e-a3f7-14bb5dbb06f5",
   "metadata": {},
   "outputs": [],
   "source": [
    "xs = np.linspace(0, 256, 256, endpoint = False)"
   ]
  },
  {
   "cell_type": "code",
   "execution_count": 144,
   "id": "ecc03db7-6e24-4cb0-acec-8f55709ac0c8",
   "metadata": {},
   "outputs": [
    {
     "name": "stdout",
     "output_type": "stream",
     "text": [
      "513\n",
      "10000\n"
     ]
    }
   ],
   "source": [
    "data = np.load('random_data_1.npy')\n",
    "#data = np.array([])\n",
    "#print(data[0])\n",
    "print(np.size(data[0]))\n",
    "print(len(data))"
   ]
  },
  {
   "cell_type": "code",
   "execution_count": 143,
   "id": "3c71b850-1e08-4cd0-87a3-89165d1aa204",
   "metadata": {},
   "outputs": [],
   "source": [
    "for i in range(6000):\n",
    "    k = np.random.randint(3,30)\n",
    "    a = np.random.rand(k) # x-dir coefficients\n",
    "    b = np.random.rand(1) # v-dir coefficients\n",
    "    vt = np.random.rand(1)\n",
    "\n",
    "    f = []\n",
    "    interp = []\n",
    "    \n",
    "    for x in xs:\n",
    "        val = 0\n",
    "        for i, a_i in enumerate(a):\n",
    "            val += a_i * np.sin((i+1) * 2 * np.pi / 256 * x)\n",
    "\n",
    "        val *= b        \n",
    "        f.append(val)\n",
    "\n",
    "        val = 0\n",
    "        for i, a_i in enumerate(a):\n",
    "            val += a_i * np.sin((i+1) * 2 * np.pi / 256 * (x+vt))\n",
    "        val *= b        \n",
    "        interp.append(val)\n",
    "\n",
    "    result = np.append(vt, [f, interp])\n",
    "\n",
    "    data = np.append(data, [result], axis=0)\n",
    "\n",
    "np.save('random_data_1.npy', data)"
   ]
  },
  {
   "cell_type": "code",
   "execution_count": null,
   "id": "853677ca-1bfa-433e-a1cb-6aba01c051b3",
   "metadata": {},
   "outputs": [],
   "source": []
  },
  {
   "cell_type": "code",
   "execution_count": null,
   "id": "998e3d69-25f1-45bf-9939-cfd5e6d7e36b",
   "metadata": {},
   "outputs": [],
   "source": []
  }
 ],
 "metadata": {
  "kernelspec": {
   "display_name": "Python 3 (ipykernel)",
   "language": "python",
   "name": "python3"
  },
  "language_info": {
   "codemirror_mode": {
    "name": "ipython",
    "version": 3
   },
   "file_extension": ".py",
   "mimetype": "text/x-python",
   "name": "python",
   "nbconvert_exporter": "python",
   "pygments_lexer": "ipython3",
   "version": "3.10.13"
  }
 },
 "nbformat": 4,
 "nbformat_minor": 5
}
